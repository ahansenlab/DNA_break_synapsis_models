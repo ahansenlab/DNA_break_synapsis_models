{
 "cells": [
  {
   "cell_type": "code",
   "execution_count": null,
   "metadata": {},
   "outputs": [],
   "source": [
    "import matplotlib.pyplot as plt\n",
    "import numpy as np\n",
    "import os\n",
    "import pandas as pd\n",
    "import seaborn as sns\n",
    "import csv"
   ]
  },
  {
   "cell_type": "code",
   "execution_count": null,
   "metadata": {},
   "outputs": [],
   "source": [
    "# load DSB coordinates\n",
    "output_folder = 'Data/output_0427_tiling600_2populationNonBypassingLEFs_GapMethod_TargetedLoading_run1'\n",
    "DSB_coordinates_np= np.load(output_folder+'/DSB_boundary_coordinates.npy')\n",
    "      "
   ]
  },
  {
   "cell_type": "code",
   "execution_count": null,
   "metadata": {},
   "outputs": [],
   "source": [
    "DSBBedFileName = \"DSBcoordinates.bed\"\n",
    "    \n",
    "file_path = output_folder + '/'+ DSBBedFileName\n",
    "o = open(file_path, \"w\")\n",
    "o.close()\n",
    "for i in range(int(len(DSB_coordinates_np)/2)):\n",
    "    line = \"chr1\\t \"+str(DSB_coordinates_np[i*2])+\"\\t \"+str(DSB_coordinates_np[i*2+1])+\"\\t DSB\"+str(i)+\"\\n\"\n",
    "    with open(file_path, \"a\") as f:\n",
    "        f.write(line)"
   ]
  },
  {
   "cell_type": "code",
   "execution_count": null,
   "metadata": {},
   "outputs": [],
   "source": []
  }
 ],
 "metadata": {
  "kernelspec": {
   "display_name": "Python 3",
   "language": "python",
   "name": "python3"
  },
  "language_info": {
   "codemirror_mode": {
    "name": "ipython",
    "version": 3
   },
   "file_extension": ".py",
   "mimetype": "text/x-python",
   "name": "python",
   "nbconvert_exporter": "python",
   "pygments_lexer": "ipython3",
   "version": "3.8.5"
  }
 },
 "nbformat": 4,
 "nbformat_minor": 4
}
