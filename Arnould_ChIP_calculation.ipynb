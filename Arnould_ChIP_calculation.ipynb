{
 "cells": [
  {
   "cell_type": "code",
   "execution_count": null,
   "metadata": {},
   "outputs": [],
   "source": [
    "from bx.intervals.io import GenomicIntervalReader\n",
    "from bx.bbi.bigwig_file import BigWigFile\n",
    "import numpy as np\n",
    "import time\n",
    "import sys\n",
    "import os\n",
    "\n",
    "path = 'Data/Arnould_chr20DSB_TAD_results_TAD.npz'\n",
    "## Arnould_chr20DSB_TAD_results_TAD.npz was generated with the following command using multiBigwigSummary from DeepTools:\n",
    "# multiBigwigSummary bins --bwfiles HLNKYBGXC_Pool_ChIP-seq_legube_19s004478-1-1_Clouaire_lane1Rad21OHT_sequence.exp_spikeinfactor.bw HLNKYBGXC_Pool_ChIP-seq_legube_19s004478-1-1_Clouaire_lane1Rad21DIvA_sequence.exp_spikeinfactor.bw -out chr20DSB_TAD_results_TAD.npz --binSize=1000 --region chr20:30924000:31030000 --labels postDSB beforeDSB\n",
    "# The region chr20:30924000:31030000 was chosen based on the CTCF ChIP dataset from arnould et al. Nature 2021\n",
    "chip = np.load(path)"
   ]
  },
  {
   "cell_type": "code",
   "execution_count": null,
   "metadata": {},
   "outputs": [],
   "source": [
    "# fold enrichment\n",
    "bins=chip['matrix']\n",
    "np.mean(bins[:,0])/np.mean(bins[:,1])"
   ]
  },
  {
   "cell_type": "code",
   "execution_count": null,
   "metadata": {},
   "outputs": [],
   "source": []
  }
 ],
 "metadata": {
  "kernelspec": {
   "display_name": "Python 3",
   "language": "python",
   "name": "python3"
  },
  "language_info": {
   "codemirror_mode": {
    "name": "ipython",
    "version": 3
   },
   "file_extension": ".py",
   "mimetype": "text/x-python",
   "name": "python",
   "nbconvert_exporter": "python",
   "pygments_lexer": "ipython3",
   "version": "3.8.5"
  }
 },
 "nbformat": 4,
 "nbformat_minor": 4
}
