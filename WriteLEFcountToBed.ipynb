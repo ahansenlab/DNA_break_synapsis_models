{
 "cells": [
  {
   "cell_type": "code",
   "execution_count": null,
   "metadata": {},
   "outputs": [],
   "source": [
    "import matplotlib.pyplot as plt\n",
    "import numpy as np\n",
    "import os\n",
    "import pandas as pd\n",
    "import seaborn as sns\n",
    "import csv"
   ]
  },
  {
   "cell_type": "code",
   "execution_count": null,
   "metadata": {},
   "outputs": [],
   "source": [
    "# load DSB coordinates\n",
    "output_folder = 'output_0427_tiling600_2populationNonBypassingLEFs_GapMethod_TargetedLoading_run1'\n",
    "with open(output_folder+'/DSB_boundary_coordinates.npy',\"rb\") as f:\n",
    "    DSB_coordinates_np = np.load(f)\n",
    "    boundary_coordinates_np = np.load(f)"
   ]
  },
  {
   "cell_type": "code",
   "execution_count": null,
   "metadata": {},
   "outputs": [],
   "source": [
    "LEF_file = [filename for filename in os.listdir(output_folder) if filename.startswith(\"LEFcoordinates\")]\n",
    "time_list = [0, 4, 10, 20, 60, 90, 120] #in minutes\n",
    "binsize = 5\n",
    "for file in LEF_file:\n",
    "    suffix = file.split('LEFcoordinates')[1]\n",
    "    with open(output_folder+'/'+file,\"rb\") as f:\n",
    "        LEF_coordiates = np.load(f)\n",
    "        \n",
    "    for time in time_list:\n",
    "        LEFBedFileName = \"LEFcount\"+ suffix +'_' +str(time)+\"min.bed\"\n",
    "        file_path = output_folder + '/'+ LEFBedFileName\n",
    "        o = open(file_path, \"w\")\n",
    "        o.close()\n",
    "    start = 0\n",
    "    count = 0 \n",
    "    while start+binsize<= boundary_coordinates_np[-1]:\n",
    "        for i in range(len(time_list)):\n",
    "            left_extruders = LEF_coordiates[i*2,:]\n",
    "            right_extruders = LEF_coordiates[i*2+1,:]\n",
    "            test_1 = np.where((left_extruders-start)*(left_extruders-start-binsize)<=0,0.5,0) \n",
    "            test_2 = np.where((right_extruders-start)*(right_extruders-start-binsize)<=0,0.5,0) \n",
    "            score = np.sum(test_1+test_2) \n",
    "            line = \"chr1\\t \"+str(start)+\"\\t \"+str((start+binsize))+\"\\t region\"+str(count)+\"\\t \"+ str(score)+\"\\n\"\n",
    "            LEFBedFileName = \"LEFcount\"+ suffix +'_' +str(time_list[i])+\"min.bed\"\n",
    "            file_path = output_folder + '/'+ LEFBedFileName\n",
    "            with open(file_path, \"a\") as f:\n",
    "                f.write(line)\n",
    "\n",
    "        start += binsize\n",
    "        count += 1"
   ]
  },
  {
   "cell_type": "code",
   "execution_count": null,
   "metadata": {},
   "outputs": [],
   "source": []
  }
 ],
 "metadata": {
  "kernelspec": {
   "display_name": "Python 3",
   "language": "python",
   "name": "python3"
  },
  "language_info": {
   "codemirror_mode": {
    "name": "ipython",
    "version": 3
   },
   "file_extension": ".py",
   "mimetype": "text/x-python",
   "name": "python",
   "nbconvert_exporter": "python",
   "pygments_lexer": "ipython3",
   "version": "3.8.5"
  }
 },
 "nbformat": 4,
 "nbformat_minor": 4
}
